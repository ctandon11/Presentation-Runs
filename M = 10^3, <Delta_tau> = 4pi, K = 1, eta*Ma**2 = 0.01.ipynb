{
 "cells": [
  {
   "cell_type": "markdown",
   "metadata": {},
   "source": [
    "# Mode-Turbulence Coupling: Numerical Analysis\n",
    "# M = 10^3, < Delta_tau > = 4pi, K = 1, eta M^2 = 0.01"
   ]
  },
  {
   "cell_type": "code",
   "execution_count": 1,
   "metadata": {},
   "outputs": [
    {
     "data": {
      "text/html": [
       "<style>.container { width:100% !important; }</style>"
      ],
      "text/plain": [
       "<IPython.core.display.HTML object>"
      ]
     },
     "metadata": {},
     "output_type": "display_data"
    }
   ],
   "source": [
    "from IPython.core.display import display, HTML\n",
    "display(HTML(\"<style>.container { width:100% !important; }</style>\"))\n",
    "\n",
    "import random\n",
    "import matplotlib.pyplot as plt\n",
    "import numpy as np\n",
    "import math\n",
    "import scipy.interpolate as interpolate\n",
    "\n",
    "n_bins = 200\n",
    "\n",
    "axis_font = {'size':'30'}\n",
    "title_font = {'size':'40'}\n",
    "\n",
    "# flattens nested arrays into one dimensional arrays\n",
    "def flatten(input):\n",
    "    new_list = []\n",
    "    for i in input:\n",
    "        for j in i:\n",
    "            new_list.append(j)\n",
    "    return new_list"
   ]
  },
  {
   "cell_type": "markdown",
   "metadata": {},
   "source": [
    "## Physical Parameters"
   ]
  },
  {
   "cell_type": "code",
   "execution_count": 2,
   "metadata": {},
   "outputs": [],
   "source": [
    "# eta * Ma ^2 = 0.01\n",
    "Ma = 0.01 ** (1/2)\n",
    "K = 1\n",
    "eta = 1"
   ]
  },
  {
   "cell_type": "markdown",
   "metadata": {},
   "source": [
    "## Functions of Ma"
   ]
  },
  {
   "cell_type": "code",
   "execution_count": 3,
   "metadata": {},
   "outputs": [],
   "source": [
    "meandeltaT = 4*np.pi\n",
    "\n",
    "# variables for generating F2, H, and G1\n",
    "stdF2 = eta * Ma**2\n",
    "limitY2 = eta "
   ]
  },
  {
   "cell_type": "markdown",
   "metadata": {},
   "source": [
    "## Calculation parameters"
   ]
  },
  {
   "cell_type": "code",
   "execution_count": 4,
   "metadata": {},
   "outputs": [],
   "source": [
    "L = 1\n",
    "M = 10**3\n",
    "M_short = 200\n",
    "N = 1\n",
    "m = 10**2\n",
    "\n",
    "J = 300\n",
    "dTau= 2 * np.pi / J\n",
    "\n",
    "Tr = K * meandeltaT\n",
    "\n",
    "Tmax = 2 * np.pi * M"
   ]
  },
  {
   "cell_type": "markdown",
   "metadata": {},
   "source": [
    "## Initial Conditions"
   ]
  },
  {
   "cell_type": "code",
   "execution_count": 5,
   "metadata": {},
   "outputs": [],
   "source": [
    "initial_AT = 0\n",
    "initial_dAdT = 0"
   ]
  },
  {
   "cell_type": "markdown",
   "metadata": {},
   "source": [
    "### Functions"
   ]
  },
  {
   "cell_type": "code",
   "execution_count": 6,
   "metadata": {},
   "outputs": [],
   "source": [
    "def fundeltaT(n_bins, M, dTau):\n",
    "    Tturb = [0]\n",
    "    deltaT = []\n",
    "    \n",
    "    # generate a rayleigh distribution from which to pick values for deltaT from\n",
    "    rayleigh = np.random.rayleigh(meandeltaT, M)                           \n",
    "    hist, bin_edges = np.histogram(rayleigh, bins=n_bins, density=True)\n",
    "    cum_values = np.zeros(bin_edges.shape)\n",
    "    cum_values[1:] = np.cumsum(hist*np.diff(bin_edges))\n",
    "    inv_cdf = interpolate.interp1d(cum_values, bin_edges)\n",
    "    \n",
    "    for i in range(M):\n",
    "        # picks a random value from the rayleigh distribution\n",
    "        r = np.random.rand(1)\n",
    "        deltaTtemp = inv_cdf(r)\n",
    "        \n",
    "        # rounds deltaTtemp up or down to be an interger multiple of dTau\n",
    "        if (deltaTtemp % dTau < 0.005):\n",
    "            deltaTtemp2 = deltaTtemp - (deltaTtemp % dTau)\n",
    "        else:\n",
    "            deltaTtemp2 = deltaTtemp + dTau - (deltaTtemp % dTau)\n",
    "            \n",
    "        deltaT.append(deltaTtemp2[0])\n",
    "        Tturb.append(deltaTtemp2 + Tturb[i])\n",
    "        \n",
    "    Tturb.pop(-1)\n",
    "    Tturb.pop(-1)\n",
    "    return deltaT, Tturb"
   ]
  },
  {
   "cell_type": "markdown",
   "metadata": {},
   "source": [
    "### F_k Function"
   ]
  },
  {
   "cell_type": "code",
   "execution_count": 7,
   "metadata": {},
   "outputs": [],
   "source": [
    "# generating F2, G1\n",
    "def funF_k(std, limit, deltaT):\n",
    "    F_k =[]\n",
    "    y1 = 0\n",
    "    for i in range(len(deltaT) - 1):\n",
    "        \n",
    "        # Tn is halfway through the eddy\n",
    "        Tn = ((deltaT[i] + deltaT[i+1]) / 2)\n",
    "        \n",
    "        stdevt = ((1 - math.exp(-2 * Tn / Tr)) * std ** 2) ** (1/2)\n",
    "        meant = math.exp(-Tn / Tr) * y1\n",
    "        \n",
    "        # y1 is chosen from markov conditional probability function\n",
    "        # put limit on y1\n",
    "            # set y1 > limitY1 so that while loop only ends when y1 < limitY1\n",
    "        y1 = limit + 1\n",
    "        while abs(y1) > limit:\n",
    "            y1 = np.random.normal(meant, stdevt, 2)[0]\n",
    "        \n",
    "        # loops through each eddy\n",
    "        for j in np.linspace(0, deltaT[i], int(deltaT[i] / dTau)):\n",
    "            x = j / deltaT[i]\n",
    "            if j == deltaT[i]:\n",
    "                pass\n",
    "            else:\n",
    "                F_k.append(16 * y1 * x**2 * (1 - x)**2)\n",
    "        \n",
    "    return F_k\n",
    "\n",
    "# generating F1\n",
    "def fundHdt(std, limit, deltaT, Tturb):\n",
    "    dHdt =[]\n",
    "    time = []\n",
    "    y1 = 0\n",
    "    for i in range(len(deltaT) - 1):\n",
    "        \n",
    "        # Tn is halfway through the eddy\n",
    "        Tn = ((deltaT[i] + deltaT[i+1]) / 2)\n",
    "        \n",
    "        stdevt = ((1 - math.exp(-2 * Tn / Tr)) * std ** 2) ** (1/2)\n",
    "        meant = math.exp(-Tn / Tr) * y1\n",
    "        \n",
    "        # y1 is chosen from markov conditional probability function\n",
    "        # put limit on y1\n",
    "            # set y1 > limitY1 so that while loop only ends when y1 < limitY1\n",
    "        y1 = limit + 1\n",
    "        while abs(y1) > limit:\n",
    "            y1 = np.random.normal(meant, stdevt, 2)[0]\n",
    "        \n",
    "        # loops through each eddy\n",
    "        for j in np.linspace(0, deltaT[i], int(deltaT[i] / dTau)):\n",
    "            x = j / deltaT[i]\n",
    "            if j == deltaT[i]:\n",
    "                pass\n",
    "            else:\n",
    "                time.append(j + Tturb[i])\n",
    "                # calculated the derivative of H = 16 * y1 * x**2 * (1 - x)**2\n",
    "                dHdt.append(1 / deltaT[i] * 32 * y1 * x * (2 * x**2 - 3 * x + 1))\n",
    "        \n",
    "    return dHdt, time\n",
    "\n",
    "def funAmp(F1, F2, G1, dTau, A, dAdt):\n",
    "    # huen's method\n",
    "    # u = dA/dt\n",
    "    \n",
    "    D = 0\n",
    "    Amp = [A]\n",
    "    t = 0.0\n",
    "    amptime = [t]\n",
    "    u = dAdt\n",
    "    \n",
    "    for i in range(0, int(len(F1)) -2):\n",
    "        m1 = u\n",
    "        k1 = -((D + F1[i]) * u ) - ( 1 + G1[i] ) * A + F2[i]\n",
    "        m2 = u + dTau * k1\n",
    "        A_2 = A + dTau * m1\n",
    "        u_2 = m2\n",
    "        k2 = -((D + F1[i + 1]) * u_2 ) - ( 1 + G1[i + 1] ) * A_2 + F2[i + 1]\n",
    "        m2 = u + dTau * k2\n",
    "        t = t + dTau\n",
    "        A = A + (dTau / 2) * (m1 + m2)\n",
    "        u = u + (dTau / 2) * (k1 + k2)\n",
    "        Amp.append(A)\n",
    "        amptime.append(t)\n",
    "\n",
    "    Amp = Amp[:-1]\n",
    "    amptime = amptime[:-1]\n",
    "    \n",
    "    return Amp, amptime"
   ]
  },
  {
   "cell_type": "markdown",
   "metadata": {},
   "source": [
    "### Plotting Functions"
   ]
  },
  {
   "cell_type": "code",
   "execution_count": 8,
   "metadata": {},
   "outputs": [],
   "source": [
    "def Funplots(t, g1, f1, f2):\n",
    "    fig, axs = plt.subplots(3, 1, sharex=True, figsize=(30,15))\n",
    "    # Remove horizontal space between axes\n",
    "    fig.subplots_adjust(hspace=0) \n",
    "\n",
    "    # Plot each graph, and manually set the y tick values\n",
    "    axs[0].plot(t, f1, 'k')\n",
    "    axs[0].set_ylabel('F\\u2081', **axis_font)\n",
    "    axs[0].tick_params(axis = 'y', labelsize = 15)\n",
    "    axs[0].set_ylim([-0.03, 0.03])\n",
    "\n",
    "    axs[1].plot(t, g1, 'k')\n",
    "    axs[1].set_ylabel('G\\u2081', **axis_font)\n",
    "    axs[1].tick_params(axis = 'y', labelsize = 15)\n",
    "\n",
    "    axs[2].plot(t, f2, color = 'k')\n",
    "    axs[2].set_ylabel('F\\u2082', **axis_font)\n",
    "    axs[2].set_xlabel(r'$\\tau$', **axis_font)\n",
    "    axs[2].tick_params(axis = 'both', labelsize = 15)\n",
    "\n",
    "    plt.show()\n",
    "    \n",
    "def FunplotAmp(amptime, Amp):\n",
    "    plt.figure(figsize=(23,7))\n",
    "    plt.plot(amptime, Amp, 'k')\n",
    "    plt.title('Amplitude of the Mode', **axis_font)\n",
    "    plt.xticks(fontsize=15)\n",
    "    plt.yticks(fontsize=15)\n",
    "    plt.xlabel(r'$\\tau$', **axis_font)\n",
    "    plt.ylabel('Amplitude', **axis_font)\n",
    "    plt.tight_layout()\n",
    "    plt.show()"
   ]
  },
  {
   "cell_type": "code",
   "execution_count": 9,
   "metadata": {},
   "outputs": [],
   "source": [
    "# root mean square\n",
    "def FunRMS(B):\n",
    "    sqr = [a**2 for a in B]\n",
    "    avg = sum(sqr)/len(sqr)\n",
    "    return avg**(1/2)"
   ]
  },
  {
   "cell_type": "markdown",
   "metadata": {},
   "source": [
    "## Plots"
   ]
  },
  {
   "cell_type": "code",
   "execution_count": 12,
   "metadata": {},
   "outputs": [],
   "source": [
    "deltaT, Tturb = fundeltaT(n_bins, M, dTau)\n",
    "\n",
    "# generate F1, F2, G1\n",
    "F1, time = fundHdt(stdF2, limitY2, deltaT, Tturb)\n",
    "F2 = funF_k(stdF2, limitY2, deltaT)\n",
    "G1 = funF_k(stdF2, limitY2, deltaT)"
   ]
  },
  {
   "cell_type": "code",
   "execution_count": 13,
   "metadata": {},
   "outputs": [
    {
     "data": {
      "image/png": "[encoded data removed]",
      "text/plain": [
       "<Figure size 1656x504 with 1 Axes>"
      ]
     },
     "metadata": {
      "needs_background": "light"
     },
     "output_type": "display_data"
    }
   ],
   "source": [
    "Amp, amptime = funAmp(F1, F2, G1, dTau, initial_AT, initial_dAdT)\n",
    "\n",
    "FunplotAmp(amptime, Amp)"
   ]
  },
  {
   "cell_type": "markdown",
   "metadata": {},
   "source": [
    "## Table 1 Values"
   ]
  },
  {
   "cell_type": "code",
   "execution_count": 14,
   "metadata": {},
   "outputs": [
    {
     "name": "stdout",
     "output_type": "stream",
     "text": [
      "<F1^2>^(1/2) =  0.0016662572787671543\n",
      "<G1^2>^(1/2) =  0.006273756988550283\n",
      "<F2^2>^(1/2) =  0.006472890085874103\n",
      "<A^2> = 0.013221952973741279\n"
     ]
    }
   ],
   "source": [
    "F1rms = FunRMS(F1)\n",
    "print(\"<F1^2>^(1/2) = \", F1rms)\n",
    "\n",
    "G1rms = FunRMS(G1)\n",
    "print(\"<G1^2>^(1/2) = \", G1rms)\n",
    "\n",
    "F2rms = FunRMS(F2)\n",
    "print(\"<F2^2>^(1/2) = \", F2rms)\n",
    "\n",
    "Arms = FunRMS(Amp)\n",
    "print(\"<A^2> =\", Arms ** 2 )"
   ]
  },
  {
   "cell_type": "code",
   "execution_count": null,
   "metadata": {},
   "outputs": [],
   "source": []
  }
 ],
 "metadata": {
  "kernelspec": {
   "display_name": "Python 3",
   "language": "python",
   "name": "python3"
  }
 },
 "nbformat": 4,
 "nbformat_minor": 2
}
