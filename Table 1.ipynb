{
 "cells": [
  {
   "cell_type": "code",
   "execution_count": 1,
   "metadata": {},
   "outputs": [
    {
     "data": {
      "text/html": [
       "<style>.container { width:100% !important; }</style>"
      ],
      "text/plain": [
       "<IPython.core.display.HTML object>"
      ]
     },
     "metadata": {},
     "output_type": "display_data"
    }
   ],
   "source": [
    "from IPython.core.display import display, HTML\n",
    "display(HTML(\"<style>.container { width:100% !important; }</style>\"))\n",
    "\n",
    "import sys\n",
    "from astropy.table import Table\n",
    "import numpy as np\n",
    "from math import log\n",
    "import matplotlib.pyplot as plt"
   ]
  },
  {
   "cell_type": "code",
   "execution_count": 15,
   "metadata": {},
   "outputs": [],
   "source": [
    "#deltaTau/pi\n",
    "DeltaTau = [1, 1,\n",
    "           1, 1, 1, 1,\n",
    "           1, 1, \n",
    "           4, 16,\n",
    "           1/4, 1/16]\n",
    "\n",
    "K = [ 1/4, 1/16,\n",
    "    1, 1, 1, 1,\n",
    "    4, 16, \n",
    "    1, 1,\n",
    "    1, 1]\n",
    "\n",
    "etaM = [ 0.01, 0.01,\n",
    "       0.000625, 0.0025, 0.01, 0.04,\n",
    "       0.01, 0.01, \n",
    "       0.01, 0.01,\n",
    "       0.01, 0.01]\n",
    "\n",
    "F1 = [0.00668,0.00741,\n",
    "     0.00047, 0.00176, 0.00704, 0.02782,\n",
    "     0.00714, 0.00659,\n",
    "     0.00167, 0.00040,\n",
    "     0.02634, 0.09168]\n",
    "\n",
    "G1 = [0.00636, 0.00636,\n",
    "     0.00038, 0.00160, 0.00636, 0.02438,\n",
    "     0.00631, 0.00691,\n",
    "     0.00627, 0.00623,\n",
    "     0.00638, 0.00626]\n",
    "\n",
    "F2 = [0.00640, 0.00638,  \n",
    "     0.00039, 0.00163, 0.00626, 0.02492,\n",
    "     0.00611, 0.00595,\n",
    "     0.00647, 0.00639,\n",
    "     0.00644, 0.00653]\n",
    "\n",
    "A = [0.05084,  0.05923,\n",
    "    0.00009, 0.00257, 0.02059, 0.10454,\n",
    "    0.02353, 0.01197,\n",
    "    0.01322, 0.00044,\n",
    "    0.01618, 0.00054]"
   ]
  },
  {
   "cell_type": "code",
   "execution_count": 16,
   "metadata": {},
   "outputs": [
    {
     "data": {
      "text/html": [
       "<i>Table length=12</i>\n",
       "<table id=\"table140301591676968\" class=\"table-striped table-bordered table-condensed\">\n",
       "<thead><tr><th>$Run$</th><th>$η Μ ^{2}$</th><th>$Κ$</th><th>$Δ Τ / \\pi$</th><th>$ \\langle F_{1}^{2} \\rangle ^{1/2}$</th><th>$\\langle G_{1}^{2} \\rangle ^{1/2}$</th><th>$\\langle F_{2}^{2} \\rangle ^{1/2}$</th><th>$\\langle A^{2} \\rangle$</th></tr></thead>\n",
       "<thead><tr><th>int64</th><th>float64</th><th>float64</th><th>float64</th><th>float64</th><th>float64</th><th>float64</th><th>float64</th></tr></thead>\n",
       "<tr><td>0</td><td>0.01</td><td>0.25</td><td>1.0</td><td>0.00668</td><td>0.00636</td><td>0.0064</td><td>0.05084</td></tr>\n",
       "<tr><td>1</td><td>0.01</td><td>0.0625</td><td>1.0</td><td>0.00741</td><td>0.00636</td><td>0.00638</td><td>0.05923</td></tr>\n",
       "<tr><td>2</td><td>0.000625</td><td>1.0</td><td>1.0</td><td>0.00047</td><td>0.00038</td><td>0.00039</td><td>9e-05</td></tr>\n",
       "<tr><td>3</td><td>0.0025</td><td>1.0</td><td>1.0</td><td>0.00176</td><td>0.0016</td><td>0.00163</td><td>0.00257</td></tr>\n",
       "<tr><td>4</td><td>0.01</td><td>1.0</td><td>1.0</td><td>0.00704</td><td>0.00636</td><td>0.00626</td><td>0.02059</td></tr>\n",
       "<tr><td>5</td><td>0.04</td><td>1.0</td><td>1.0</td><td>0.02782</td><td>0.02438</td><td>0.02492</td><td>0.10454</td></tr>\n",
       "<tr><td>6</td><td>0.01</td><td>4.0</td><td>1.0</td><td>0.00714</td><td>0.00631</td><td>0.00611</td><td>0.02353</td></tr>\n",
       "<tr><td>7</td><td>0.01</td><td>16.0</td><td>1.0</td><td>0.00659</td><td>0.00691</td><td>0.00595</td><td>0.01197</td></tr>\n",
       "<tr><td>8</td><td>0.01</td><td>1.0</td><td>4.0</td><td>0.00167</td><td>0.00627</td><td>0.00647</td><td>0.01322</td></tr>\n",
       "<tr><td>9</td><td>0.01</td><td>1.0</td><td>16.0</td><td>0.0004</td><td>0.00623</td><td>0.00639</td><td>0.00044</td></tr>\n",
       "<tr><td>10</td><td>0.01</td><td>1.0</td><td>0.25</td><td>0.02634</td><td>0.00638</td><td>0.00644</td><td>0.01618</td></tr>\n",
       "<tr><td>11</td><td>0.01</td><td>1.0</td><td>0.0625</td><td>0.09168</td><td>0.00626</td><td>0.00653</td><td>0.00054</td></tr>\n",
       "</table>"
      ],
      "text/plain": [
       "<Table length=12>\n",
       "$Run$ $η Μ ^{2}$ ... $\\langle F_{2}^{2} \\rangle ^{1/2}$ $\\langle A^{2} \\rangle$\n",
       "int64  float64   ...              float64                       float64        \n",
       "----- ---------- ... ---------------------------------- -----------------------\n",
       "    0       0.01 ...                             0.0064                 0.05084\n",
       "    1       0.01 ...                            0.00638                 0.05923\n",
       "    2   0.000625 ...                            0.00039                   9e-05\n",
       "    3     0.0025 ...                            0.00163                 0.00257\n",
       "    4       0.01 ...                            0.00626                 0.02059\n",
       "    5       0.04 ...                            0.02492                 0.10454\n",
       "    6       0.01 ...                            0.00611                 0.02353\n",
       "    7       0.01 ...                            0.00595                 0.01197\n",
       "    8       0.01 ...                            0.00647                 0.01322\n",
       "    9       0.01 ...                            0.00639                 0.00044\n",
       "   10       0.01 ...                            0.00644                 0.01618\n",
       "   11       0.01 ...                            0.00653                 0.00054"
      ]
     },
     "execution_count": 16,
     "metadata": {},
     "output_type": "execute_result"
    }
   ],
   "source": [
    "def funlog(list):\n",
    "    loglist = []\n",
    "    for y in list:\n",
    "        loglist.append(log(y,10))\n",
    "    return loglist\n",
    "\n",
    "logF2 = funlog(F2)\n",
    "logA = funlog(A)\n",
    "\n",
    "t = Table([[0,1,2,3,4,5,6, 7, 8, 9, 10, 11], etaM,K,DeltaTau,F1,G1,F2,A], \n",
    "          names=('$Run$', '$\\u03B7 \\u039C ^{2}$', '$\\u039A$', '$\\u0394 \\u03A4 / \\pi$', r'$ \\langle F_{1}^{2} \\rangle ^{1/2}$',  r'$\\langle G_{1}^{2} \\rangle ^{1/2}$', r'$\\langle F_{2}^{2} \\rangle ^{1/2}$', r'$\\langle A^{2} \\rangle$'))\n",
    "\n",
    "t"
   ]
  },
  {
   "cell_type": "code",
   "execution_count": 17,
   "metadata": {},
   "outputs": [],
   "source": [
    "fiducial_second = []\n",
    "for i in range(len(K)):\n",
    "    if K[i] == 1 and DeltaTau[i] == 1:\n",
    "        fiducial_second.append(i)\n",
    "        \n",
    "fiducial_first = []\n",
    "for i in range(len(etaM)):\n",
    "    if etaM[i] == 0.01 and DeltaTau[i] == 1:\n",
    "        fiducial_first.append(i)\n",
    "        \n",
    "fiducial_third = []\n",
    "for i in range(len(DeltaTau)):\n",
    "    if etaM[i] == 0.01 and K[i] == 1:\n",
    "        fiducial_third.append(i)\n",
    "        \n",
    "first_K = []\n",
    "first_A = []\n",
    "first_F2 = []\n",
    "for i in fiducial_first:\n",
    "    first_K.append(K[i])\n",
    "    first_A.append(logA[i])\n",
    "    first_F2.append(logF2[i])\n",
    "    \n",
    "second_etaM = []\n",
    "second_A = []\n",
    "second_F2 = []\n",
    "for i in fiducial_second:\n",
    "    second_etaM.append(etaM[i])\n",
    "    second_A.append(logA[i])\n",
    "    second_F2.append(logF2[i])\n",
    "    \n",
    "third_deltaT = []\n",
    "third_A = []\n",
    "third_F2 = []\n",
    "for i in fiducial_third:\n",
    "    third_deltaT.append(DeltaTau[i])\n",
    "    third_A.append(logA[i])\n",
    "    third_F2.append(logF2[i])\n",
    "\n",
    "\n",
    "first_K = funlog(first_K)\n",
    "second_etaM = funlog(second_etaM)\n",
    "third_deltaT = funlog(third_deltaT)"
   ]
  },
  {
   "cell_type": "code",
   "execution_count": 19,
   "metadata": {
    "scrolled": true
   },
   "outputs": [
    {
     "data": {
      "image/png": "[encoded data removed]",
      "text/plain": [
       "<Figure size 432x216 with 1 Axes>"
      ]
     },
     "metadata": {
      "needs_background": "light"
     },
     "output_type": "display_data"
    },
    {
     "data": {
      "image/png": "[encoded data removed]",
      "text/plain": [
       "<Figure size 432x216 with 1 Axes>"
      ]
     },
     "metadata": {
      "needs_background": "light"
     },
     "output_type": "display_data"
    },
    {
     "data": {
      "image/png": "[encoded data removed]",
      "text/plain": [
       "<Figure size 432x216 with 1 Axes>"
      ]
     },
     "metadata": {
      "needs_background": "light"
     },
     "output_type": "display_data"
    }
   ],
   "source": [
    "axis_font = {'size':'20'}\n",
    "\n",
    "plt.figure(figsize=(6,3))\n",
    "plt.scatter(first_K, first_A, s = 70, c = 'r', label = r'$log( \\langle A^{2} \\rangle )$')\n",
    "plt.scatter(first_K, first_F2, s = 70, c = 'k', label = r'$log( \\langle F_{2}^{2} \\rangle ^{1/2} )$')\n",
    "plt.xticks(fontsize=12)\n",
    "plt.yticks(fontsize=12)\n",
    "plt.xlabel('$log(\\u039A)$', **axis_font)\n",
    "plt.tight_layout()\n",
    "plt.savefig(\"presentation1.png\")\n",
    "plt.show()\n",
    "\n",
    "\n",
    "plt.figure(figsize=(6,3))\n",
    "plt.scatter(second_etaM, second_A, s = 70, c = 'r')\n",
    "plt.scatter(second_etaM, second_F2, s = 70, c = 'k')\n",
    "plt.xticks(fontsize=12)\n",
    "plt.yticks(fontsize=12)\n",
    "plt.xlabel('$log(\\u03B7 \\u039C ^{2})$', **axis_font)\n",
    "plt.tight_layout()\n",
    "plt.savefig(\"presentation2.png\")\n",
    "plt.show()\n",
    "\n",
    "plt.figure(figsize=(6,3))\n",
    "plt.scatter(third_deltaT, third_A, s = 70, c = 'r')\n",
    "plt.scatter(third_deltaT, third_F2, s = 70, c = 'k')\n",
    "plt.xticks(fontsize=12)\n",
    "plt.yticks(fontsize=12)\n",
    "plt.xlabel('$log(\\u0394 \\u03A4 / \\pi)$', **axis_font)\n",
    "plt.tight_layout()\n",
    "plt.savefig(\"presentation.png\")\n",
    "plt.show()"
   ]
  },
  {
   "cell_type": "code",
   "execution_count": null,
   "metadata": {},
   "outputs": [],
   "source": []
  }
 ],
 "metadata": {
  "kernelspec": {
   "display_name": "Python 3",
   "language": "python",
   "name": "python3"
  },
  "language_info": {
   "codemirror_mode": {
    "name": "ipython",
    "version": 3
   },
   "file_extension": ".py",
   "mimetype": "text/x-python",
   "name": "python",
   "nbconvert_exporter": "python",
   "pygments_lexer": "ipython3",
   "version": "3.7.1"
  }
 },
 "nbformat": 4,
 "nbformat_minor": 2
}
