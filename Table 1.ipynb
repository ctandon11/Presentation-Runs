{
 "cells": [
  {
   "cell_type": "code",
   "execution_count": 4,
   "metadata": {},
   "outputs": [
    {
     "data": {
      "text/html": [
       "<style>.container { width:100% !important; }</style>"
      ],
      "text/plain": [
       "<IPython.core.display.HTML object>"
      ]
     },
     "metadata": {},
     "output_type": "display_data"
    }
   ],
   "source": [
    "from IPython.core.display import display, HTML\n",
    "display(HTML(\"<style>.container { width:100% !important; }</style>\"))\n",
    "\n",
    "import sys\n",
    "from astropy.table import Table\n",
    "import numpy as np\n",
    "from math import log\n",
    "import matplotlib.pyplot as plt"
   ]
  },
  {
   "cell_type": "code",
   "execution_count": 5,
   "metadata": {},
   "outputs": [],
   "source": [
    "\n",
    "DeltaTau = ['$\\pi$', '$\\pi$', '$\\pi$', \n",
    "           '$\\pi$', '$\\pi$', '$\\pi$',\n",
    "           '$\\pi$', '$\\pi$', '$\\pi$',\n",
    "           '$4\\pi$', '$4\\pi$', '$4\\pi$',\n",
    "           '$4\\pi$', '$4\\pi$', '$4\\pi$',\n",
    "           '$4\\pi$', '$4\\pi$', '$4\\pi$',\n",
    "           '$\\pi/4$', '$\\pi/4$', '$\\pi/4$',\n",
    "           '$\\pi/4$', '$\\pi/4$', '$\\pi/4$',\n",
    "           '$\\pi/4$', '$\\pi/4$', '$\\pi/4$']\n",
    "\n",
    "K = [0.25, 0.25, 0.25, \n",
    "    1, 1, 1,\n",
    "    4, 4, 4,\n",
    "    0.25, 0.25, 0.25,\n",
    "    1, 1, 1,\n",
    "    4, 4, 4,\n",
    "    0.25, 0.25, 0.25,\n",
    "    1, 1, 1,\n",
    "    4, 4, 4]\n",
    "\n",
    "etaM = [0.0025,  0.01, 0.04,\n",
    "       0.0025, 0.01, 0.04,\n",
    "       0.0025, 0.01, 0.04,\n",
    "       0.0025, 0.01, 0.04,\n",
    "       0.0025, 0.01, 0.04,\n",
    "       0.0025, 0.01, 0.04,\n",
    "       0.0025, 0.01, 0.04,\n",
    "       0.0025, 0.01, 0.04,\n",
    "       0.0025, 0.01, 0.04]\n",
    "\n",
    "F1 = [0.00176, 0.00668, 0.02738, \n",
    "     0.00153, 0.00704, 0.02782,\n",
    "     0.00181, 0.00714, 0.03321,\n",
    "     0.00043, 0.00169, 0.00669,\n",
    "     0.00041, 0.00167, 0.00719,\n",
    "     0.00039, 0.00180, 0.00664,\n",
    "     0.00649, 0.02710, 0.10421,\n",
    "     0.00634, 0.02630, 0.10195,\n",
    "     0.00609, 0.02444, 0.11985]\n",
    "\n",
    "G1 = [0.00159, 0.00636, 0.02527, \n",
    "     0.00158, 0.00636, 0.02438,\n",
    "     0.00165, 0.00631, 0.02525,\n",
    "     0.00163, 0.00640, 0.02521,\n",
    "     0.00160, 0.00627, 0.02687,\n",
    "     0.00168, 0.00621, 0.02567,\n",
    "     0.00160, 0.00659, 0.02662,\n",
    "     0.00164, 0.00654, 0.02681,\n",
    "     0.00163, 0.00634, 0.02627]\n",
    "\n",
    "F2 = [0.00158, 0.00640, 0.02450, \n",
    "     0.00158, 0.00626, 0.02492,\n",
    "     0.00164, 0.00611, 0.02396, \n",
    "     0.00164, 0.00669, 0.02612,\n",
    "     0.00159, 0.00647, 0.02586,\n",
    "     0.00165, 0.00600, 0.02424, \n",
    "     0.00163, 0.00652, 0.02561,\n",
    "     0.00154, 0.00636, 0.02570,\n",
    "     0.00142, 0.00642, 0.02459]\n",
    "\n",
    "A = [0.00127, 0.05084, 0.25798, \n",
    "    0.00048, 0.02059, 0.10454,\n",
    "    0.00323, 0.02353, 0.52930,\n",
    "    0.00029, 0.01389, 0.12812,\n",
    "    0.00204, 0.01322, 0.07210,\n",
    "    0.00248, 0.06033, 0.19245,\n",
    "    0.00049, 0.00302, 0.08282,\n",
    "    0.00018, 0.00267, 0.03219,\n",
    "    0.00007, 0.00369, 0.09350]"
   ]
  },
  {
   "cell_type": "code",
   "execution_count": 6,
   "metadata": {},
   "outputs": [
    {
     "data": {
      "text/html": [
       "<i>Table length=27</i>\n",
       "<table id=\"table140515484402576\" class=\"table-striped table-bordered table-condensed\">\n",
       "<thead><tr><th>$Run$</th><th>$η Μ ^{2}$</th><th>$Κ$</th><th>$Δ Τ$</th><th>$ \\langle F_{1}^{2} \\rangle ^{1/2}$</th><th>$\\langle G_{1}^{2} \\rangle ^{1/2}$</th><th>$\\langle F_{2}^{2} \\rangle ^{1/2}$</th><th>$\\langle A^{2} \\rangle$</th></tr></thead>\n",
       "<thead><tr><th>int64</th><th>float64</th><th>float64</th><th>str7</th><th>float64</th><th>float64</th><th>float64</th><th>float64</th></tr></thead>\n",
       "<tr><td>1</td><td>0.0025</td><td>0.25</td><td>$\\pi$</td><td>0.00176</td><td>0.00159</td><td>0.00158</td><td>0.00127</td></tr>\n",
       "<tr><td>2</td><td>0.01</td><td>0.25</td><td>$\\pi$</td><td>0.00668</td><td>0.00636</td><td>0.0064</td><td>0.05084</td></tr>\n",
       "<tr><td>3</td><td>0.04</td><td>0.25</td><td>$\\pi$</td><td>0.02738</td><td>0.02527</td><td>0.0245</td><td>0.25798</td></tr>\n",
       "<tr><td>4</td><td>0.0025</td><td>1.0</td><td>$\\pi$</td><td>0.00153</td><td>0.00158</td><td>0.00158</td><td>0.00048</td></tr>\n",
       "<tr><td>5</td><td>0.01</td><td>1.0</td><td>$\\pi$</td><td>0.00704</td><td>0.00636</td><td>0.00626</td><td>0.02059</td></tr>\n",
       "<tr><td>6</td><td>0.04</td><td>1.0</td><td>$\\pi$</td><td>0.02782</td><td>0.02438</td><td>0.02492</td><td>0.10454</td></tr>\n",
       "<tr><td>7</td><td>0.0025</td><td>4.0</td><td>$\\pi$</td><td>0.00181</td><td>0.00165</td><td>0.00164</td><td>0.00323</td></tr>\n",
       "<tr><td>8</td><td>0.01</td><td>4.0</td><td>$\\pi$</td><td>0.00714</td><td>0.00631</td><td>0.00611</td><td>0.02353</td></tr>\n",
       "<tr><td>9</td><td>0.04</td><td>4.0</td><td>$\\pi$</td><td>0.03321</td><td>0.02525</td><td>0.02396</td><td>0.5293</td></tr>\n",
       "<tr><td>10</td><td>0.0025</td><td>0.25</td><td>$4\\pi$</td><td>0.00043</td><td>0.00163</td><td>0.00164</td><td>0.00029</td></tr>\n",
       "<tr><td>...</td><td>...</td><td>...</td><td>...</td><td>...</td><td>...</td><td>...</td><td>...</td></tr>\n",
       "<tr><td>18</td><td>0.04</td><td>4.0</td><td>$4\\pi$</td><td>0.00664</td><td>0.02567</td><td>0.02424</td><td>0.19245</td></tr>\n",
       "<tr><td>19</td><td>0.0025</td><td>0.25</td><td>$\\pi/4$</td><td>0.00649</td><td>0.0016</td><td>0.00163</td><td>0.00049</td></tr>\n",
       "<tr><td>20</td><td>0.01</td><td>0.25</td><td>$\\pi/4$</td><td>0.0271</td><td>0.00659</td><td>0.00652</td><td>0.00302</td></tr>\n",
       "<tr><td>21</td><td>0.04</td><td>0.25</td><td>$\\pi/4$</td><td>0.10421</td><td>0.02662</td><td>0.02561</td><td>0.08282</td></tr>\n",
       "<tr><td>22</td><td>0.0025</td><td>1.0</td><td>$\\pi/4$</td><td>0.00634</td><td>0.00164</td><td>0.00154</td><td>0.00018</td></tr>\n",
       "<tr><td>23</td><td>0.01</td><td>1.0</td><td>$\\pi/4$</td><td>0.0263</td><td>0.00654</td><td>0.00636</td><td>0.00267</td></tr>\n",
       "<tr><td>24</td><td>0.04</td><td>1.0</td><td>$\\pi/4$</td><td>0.10195</td><td>0.02681</td><td>0.0257</td><td>0.03219</td></tr>\n",
       "<tr><td>25</td><td>0.0025</td><td>4.0</td><td>$\\pi/4$</td><td>0.00609</td><td>0.00163</td><td>0.00142</td><td>7e-05</td></tr>\n",
       "<tr><td>26</td><td>0.01</td><td>4.0</td><td>$\\pi/4$</td><td>0.02444</td><td>0.00634</td><td>0.00642</td><td>0.00369</td></tr>\n",
       "<tr><td>27</td><td>0.04</td><td>4.0</td><td>$\\pi/4$</td><td>0.11985</td><td>0.02627</td><td>0.02459</td><td>0.0935</td></tr>\n",
       "</table>"
      ],
      "text/plain": [
       "<Table length=27>\n",
       "$Run$ $η Μ ^{2}$ ... $\\langle F_{2}^{2} \\rangle ^{1/2}$ $\\langle A^{2} \\rangle$\n",
       "int64  float64   ...              float64                       float64        \n",
       "----- ---------- ... ---------------------------------- -----------------------\n",
       "    1     0.0025 ...                            0.00158                 0.00127\n",
       "    2       0.01 ...                             0.0064                 0.05084\n",
       "    3       0.04 ...                             0.0245                 0.25798\n",
       "    4     0.0025 ...                            0.00158                 0.00048\n",
       "    5       0.01 ...                            0.00626                 0.02059\n",
       "    6       0.04 ...                            0.02492                 0.10454\n",
       "    7     0.0025 ...                            0.00164                 0.00323\n",
       "    8       0.01 ...                            0.00611                 0.02353\n",
       "    9       0.04 ...                            0.02396                  0.5293\n",
       "   10     0.0025 ...                            0.00164                 0.00029\n",
       "  ...        ... ...                                ...                     ...\n",
       "   18       0.04 ...                            0.02424                 0.19245\n",
       "   19     0.0025 ...                            0.00163                 0.00049\n",
       "   20       0.01 ...                            0.00652                 0.00302\n",
       "   21       0.04 ...                            0.02561                 0.08282\n",
       "   22     0.0025 ...                            0.00154                 0.00018\n",
       "   23       0.01 ...                            0.00636                 0.00267\n",
       "   24       0.04 ...                             0.0257                 0.03219\n",
       "   25     0.0025 ...                            0.00142                   7e-05\n",
       "   26       0.01 ...                            0.00642                 0.00369\n",
       "   27       0.04 ...                            0.02459                  0.0935"
      ]
     },
     "execution_count": 6,
     "metadata": {},
     "output_type": "execute_result"
    }
   ],
   "source": [
    "t = Table([[1,2,3,4,5,6,7,8,9, 10, 11, 12, 13, 14, 15, 16, 17,18,19,20,21, 22,23,24,25,26,27], etaM,K,DeltaTau,F1,G1,F2,A], \n",
    "          names=('$Run$', '$\\u03B7 \\u039C ^{2}$', '$\\u039A$', '$\\u0394 \\u03A4$', r'$ \\langle F_{1}^{2} \\rangle ^{1/2}$',  r'$\\langle G_{1}^{2} \\rangle ^{1/2}$', r'$\\langle F_{2}^{2} \\rangle ^{1/2}$', r'$\\langle A^{2} \\rangle$'))\n",
    "\n",
    "t"
   ]
  },
  {
   "cell_type": "code",
   "execution_count": 7,
   "metadata": {},
   "outputs": [],
   "source": [
    "def funlog(list):\n",
    "    loglist = []\n",
    "    for y in list:\n",
    "        loglist.append(log(y,10))\n",
    "    return loglist\n",
    "\n",
    "logF2 = funlog(F2)\n",
    "logA = funlog(A)"
   ]
  },
  {
   "cell_type": "code",
   "execution_count": 8,
   "metadata": {},
   "outputs": [],
   "source": [
    "fiducial_second = []\n",
    "for i in range(len(K)):\n",
    "    if K[i] == 1 and DeltaTau[i] == '$\\pi$':\n",
    "        fiducial_second.append(i)\n",
    "        \n",
    "fiducial_first = []\n",
    "for i in range(len(etaM)):\n",
    "    if etaM[i] == 0.01 and DeltaTau[i] == '$\\pi$':\n",
    "        fiducial_first.append(i)\n",
    "        \n",
    "fiducial_third = []\n",
    "for i in range(len(DeltaTau)):\n",
    "    if etaM[i] == 0.01 and K[i] == 1:\n",
    "        fiducial_third.append(i)\n",
    "        \n",
    "first_K = []\n",
    "first_A = []\n",
    "first_F2 = []\n",
    "for i in fiducial_first:\n",
    "    first_K.append(K[i])\n",
    "    first_A.append(logA[i])\n",
    "    first_F2.append(logF2[i])\n",
    "    \n",
    "second_etaM = []\n",
    "second_A = []\n",
    "second_F2 = []\n",
    "for i in fiducial_second:\n",
    "    second_etaM.append(etaM[i])\n",
    "    second_A.append(logA[i])\n",
    "    second_F2.append(logF2[i])\n",
    "    \n",
    "third_deltaT = []\n",
    "third_A = []\n",
    "third_F2 = []\n",
    "for i in fiducial_third:\n",
    "    third_deltaT.append(DeltaTau[i])\n",
    "    third_A.append(logA[i])\n",
    "    third_F2.append(logF2[i])\n",
    "    "
   ]
  },
  {
   "cell_type": "code",
   "execution_count": 11,
   "metadata": {},
   "outputs": [
    {
     "data": {
      "image/png": "[encoded data removed]",
      "text/plain": [
       "<Figure size 720x216 with 1 Axes>"
      ]
     },
     "metadata": {
      "needs_background": "light"
     },
     "output_type": "display_data"
    },
    {
     "data": {
      "image/png": "[encoded data removed]",
      "text/plain": [
       "<Figure size 720x216 with 1 Axes>"
      ]
     },
     "metadata": {
      "needs_background": "light"
     },
     "output_type": "display_data"
    },
    {
     "data": {
      "image/png": "[encoded data removed]",
      "text/plain": [
       "<Figure size 720x216 with 1 Axes>"
      ]
     },
     "metadata": {
      "needs_background": "light"
     },
     "output_type": "display_data"
    }
   ],
   "source": [
    "axis_font = {'size':'20'}\n",
    "\n",
    "plt.figure(figsize=(10,3))\n",
    "plt.scatter(first_K, first_A, s = 70, c = 'k', label = '$log(A)$')\n",
    "plt.scatter(first_K, first_F2, s = 70, c = 'r', label = '$log(F_{2}^{2})$')\n",
    "plt.xticks(fontsize=12)\n",
    "plt.yticks(fontsize=12)\n",
    "plt.xlabel('$\\u039A$', **axis_font)\n",
    "plt.tight_layout()\n",
    "plt.legend(loc='upper center', fontsize=15)\n",
    "plt.show()\n",
    "\n",
    "\n",
    "plt.figure(figsize=(10,3))\n",
    "plt.scatter(second_etaM, second_A, s = 70, c = 'k')\n",
    "plt.scatter(second_etaM, second_F2, s = 70, c = 'r')\n",
    "plt.xticks(fontsize=12)\n",
    "plt.yticks(fontsize=12)\n",
    "plt.xlabel('$\\u03B7 \\u039C ^{2}$', **axis_font)\n",
    "plt.tight_layout()\n",
    "plt.show()\n",
    "\n",
    "plt.figure(figsize=(10,3))\n",
    "plt.scatter(third_deltaT, third_A, s = 70, c = 'k')\n",
    "plt.scatter(third_deltaT, third_F2, s = 70, c = 'r')\n",
    "plt.xticks(fontsize=12)\n",
    "plt.yticks(fontsize=12)\n",
    "plt.xlabel('$\\u0394 \\u03A4$', **axis_font)\n",
    "plt.tight_layout()\n",
    "plt.show()"
   ]
  },
  {
   "cell_type": "code",
   "execution_count": null,
   "metadata": {},
   "outputs": [],
   "source": []
  }
 ],
 "metadata": {
  "kernelspec": {
   "display_name": "Python 3",
   "language": "python",
   "name": "python3"
  },
  "language_info": {
   "codemirror_mode": {
    "name": "ipython",
    "version": 3
   },
   "file_extension": ".py",
   "mimetype": "text/x-python",
   "name": "python",
   "nbconvert_exporter": "python",
   "pygments_lexer": "ipython3",
   "version": "3.7.1"
  }
 },
 "nbformat": 4,
 "nbformat_minor": 2
}
