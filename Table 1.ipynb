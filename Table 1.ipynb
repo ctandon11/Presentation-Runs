{
 "cells": [
  {
   "cell_type": "code",
   "execution_count": 3,
   "metadata": {},
   "outputs": [
    {
     "data": {
      "text/html": [
       "<style>.container { width:100% !important; }</style>"
      ],
      "text/plain": [
       "<IPython.core.display.HTML object>"
      ]
     },
     "metadata": {},
     "output_type": "display_data"
    }
   ],
   "source": [
    "from IPython.core.display import display, HTML\n",
    "display(HTML(\"<style>.container { width:100% !important; }</style>\"))\n",
    "\n",
    "import sys\n",
    "from astropy.table import Table\n",
    "import numpy as np"
   ]
  },
  {
   "cell_type": "code",
   "execution_count": 13,
   "metadata": {},
   "outputs": [],
   "source": [
    "DeltaTau = ['$\\pi$', '$\\pi$', '$\\pi$', \n",
    "           '$\\pi$', '$\\pi$', '$\\pi$',\n",
    "           '$\\pi$', '$\\pi$', '$\\pi$']\n",
    "\n",
    "K = [r'$\\frac{1}{4}$', r'$\\frac{1}{4}$', r'$\\frac{1}{4}$', \n",
    "    1, 1, 1,\n",
    "    4, 4, 4]\n",
    "\n",
    "etaM = [r'$\\frac{0.01}{4}$', ' 0.01', 0.04,\n",
    "       r'$\\frac{0.01}{4}$', 0.01, 0.04,\n",
    "       r'$\\frac{0.01}{4}$', 0.01, 0.04]\n",
    "\n",
    "F1 = [0.00176, 0.00668, 0.02738, \n",
    "     0.00178, 0.00712, 0.02782,\n",
    "     0.00698, 0.00698, 0.00698]\n",
    "\n",
    "G1 = [0.00159, 0.00636, 0.02527, \n",
    "     '0.00160', 0.00652, 0.02438,\n",
    "     0.00689, 0.00689, 0.00689]\n",
    "\n",
    "F2 = [0.00158, '0.00640', '0.02450', \n",
    "     0.00154, 0.00638, 0.02492,\n",
    "     0.00634, 0.00634, 0.00634]\n",
    "\n",
    "A = [0.00127, 0.05084, 0.25798, \n",
    "    0.00296, '0.04530', 0.10454,\n",
    "    0.01069, 0.01069, 0.01069]"
   ]
  },
  {
   "cell_type": "code",
   "execution_count": 18,
   "metadata": {},
   "outputs": [
    {
     "data": {
      "text/html": [
       "<i>Table length=9</i>\n",
       "<table id=\"table140678760677952\" class=\"table-striped table-bordered table-condensed\">\n",
       "<thead><tr><th>$Run$</th><th>$η Μ ^{2}$</th><th>$Κ$</th><th>$Δ Τ$</th><th>$ \\langle F_{1}^{2} \\rangle ^{1/2}$</th><th>$\\langle G_{1}^{2} \\rangle ^{1/2}$</th><th>$\\langle F_{2}^{2} \\rangle ^{1/2}$</th><th>$\\langle A^{2} \\rangle$</th></tr></thead>\n",
       "<thead><tr><th>int64</th><th>str16</th><th>str13</th><th>str5</th><th>float64</th><th>str32</th><th>str32</th><th>str32</th></tr></thead>\n",
       "<tr><td>1</td><td>$\\frac{0.01}{4}$</td><td>$\\frac{1}{4}$</td><td>$\\pi$</td><td>0.00176</td><td>0.00159</td><td>0.00158</td><td>0.00127</td></tr>\n",
       "<tr><td>2</td><td>0.01</td><td>$\\frac{1}{4}$</td><td>$\\pi$</td><td>0.00668</td><td>0.00636</td><td>0.00640</td><td>0.05084</td></tr>\n",
       "<tr><td>3</td><td>0.04</td><td>$\\frac{1}{4}$</td><td>$\\pi$</td><td>0.02738</td><td>0.02527</td><td>0.02450</td><td>0.25798</td></tr>\n",
       "<tr><td>4</td><td>$\\frac{0.01}{4}$</td><td>1</td><td>$\\pi$</td><td>0.00178</td><td>0.00160</td><td>0.00154</td><td>0.00296</td></tr>\n",
       "<tr><td>5</td><td>0.01</td><td>1</td><td>$\\pi$</td><td>0.00712</td><td>0.00652</td><td>0.00638</td><td>0.04530</td></tr>\n",
       "<tr><td>6</td><td>0.04</td><td>1</td><td>$\\pi$</td><td>0.02782</td><td>0.02438</td><td>0.02492</td><td>0.10454</td></tr>\n",
       "<tr><td>7</td><td>$\\frac{0.01}{4}$</td><td>4</td><td>$\\pi$</td><td>0.00698</td><td>0.00689</td><td>0.00634</td><td>0.01069</td></tr>\n",
       "<tr><td>8</td><td>0.01</td><td>4</td><td>$\\pi$</td><td>0.00698</td><td>0.00689</td><td>0.00634</td><td>0.01069</td></tr>\n",
       "<tr><td>9</td><td>0.04</td><td>4</td><td>$\\pi$</td><td>0.00698</td><td>0.00689</td><td>0.00634</td><td>0.01069</td></tr>\n",
       "</table>"
      ],
      "text/plain": [
       "<Table length=9>\n",
       "$Run$    $η Μ ^{2}$    ... $\\langle A^{2} \\rangle$\n",
       "int64      str16       ...          str32         \n",
       "----- ---------------- ... -----------------------\n",
       "    1 $\\frac{0.01}{4}$ ...                 0.00127\n",
       "    2             0.01 ...                 0.05084\n",
       "    3             0.04 ...                 0.25798\n",
       "    4 $\\frac{0.01}{4}$ ...                 0.00296\n",
       "    5             0.01 ...                 0.04530\n",
       "    6             0.04 ...                 0.10454\n",
       "    7 $\\frac{0.01}{4}$ ...                 0.01069\n",
       "    8             0.01 ...                 0.01069\n",
       "    9             0.04 ...                 0.01069"
      ]
     },
     "execution_count": 18,
     "metadata": {},
     "output_type": "execute_result"
    }
   ],
   "source": [
    "t = Table([[1,2,3,4,5,6,7,8,9], etaM,K,DeltaTau,F1,G1,F2,A], \n",
    "          names=('$Run$', '$\\u03B7 \\u039C ^{2}$', '$\\u039A$', '$\\u0394 \\u03A4$', r'$ \\langle F_{1}^{2} \\rangle ^{1/2}$',  r'$\\langle G_{1}^{2} \\rangle ^{1/2}$', r'$\\langle F_{2}^{2} \\rangle ^{1/2}$', r'$\\langle A^{2} \\rangle$'))\n",
    "\n",
    "t"
   ]
  },
  {
   "cell_type": "code",
   "execution_count": null,
   "metadata": {},
   "outputs": [],
   "source": []
  }
 ],
 "metadata": {
  "kernelspec": {
   "display_name": "Python 3",
   "language": "python",
   "name": "python3"
  },
  "language_info": {
   "codemirror_mode": {
    "name": "ipython",
    "version": 3
   },
   "file_extension": ".py",
   "mimetype": "text/x-python",
   "name": "python",
   "nbconvert_exporter": "python",
   "pygments_lexer": "ipython3",
   "version": "3.7.1"
  }
 },
 "nbformat": 4,
 "nbformat_minor": 2
}
